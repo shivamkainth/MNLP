{
  "nbformat": 4,
  "nbformat_minor": 0,
  "metadata": {
    "colab": {
      "name": "imdb Sentiment compact.ipynb",
      "provenance": [],
      "authorship_tag": "ABX9TyMkaGvKNndqjo0T6Ubm5IO1",
      "include_colab_link": true
    },
    "kernelspec": {
      "name": "python3",
      "display_name": "Python 3"
    }
  },
  "cells": [
    {
      "cell_type": "markdown",
      "metadata": {
        "id": "view-in-github",
        "colab_type": "text"
      },
      "source": [
        "<a href=\"https://colab.research.google.com/github/shivamkainth/MNLP/blob/main/imdb/imdb_Sentiment_compact.ipynb\" target=\"_parent\"><img src=\"https://colab.research.google.com/assets/colab-badge.svg\" alt=\"Open In Colab\"/></a>"
      ]
    },
    {
      "cell_type": "code",
      "metadata": {
        "id": "JuUWSXM3BIqH"
      },
      "source": [
        "import pandas as pd\n",
        "# train Data\n",
        "trainData = pd.read_csv(\"https://raw.githubusercontent.com/Vasistareddy/sentiment_analysis/master/data/train.csv\")\n",
        "# test Data\n",
        "testData = pd.read_csv(\"https://raw.githubusercontent.com/Vasistareddy/sentiment_analysis/master/data/test.csv\")"
      ],
      "execution_count": 1,
      "outputs": []
    },
    {
      "cell_type": "code",
      "metadata": {
        "id": "Okee6AQOByHR"
      },
      "source": [
        "from sklearn.feature_extraction.text import TfidfVectorizer\n",
        "vectorizer = TfidfVectorizer(min_df = 0.1,\n",
        "                             max_df = 0.9,\n",
        "                             ngram_range=(1, 1),\n",
        "                             sublinear_tf = True,\n",
        "                             use_idf = True)\n",
        "train_vectors = vectorizer.fit_transform(trainData['Content'])\n",
        "test_vectors = vectorizer.transform(testData['Content'])"
      ],
      "execution_count": 2,
      "outputs": []
    },
    {
      "cell_type": "code",
      "metadata": {
        "id": "Gp_t3kWmByE0",
        "outputId": "098fba4e-9eff-451e-d4f9-ef23b96ffa99",
        "colab": {
          "base_uri": "https://localhost:8080/",
          "height": 69
        }
      },
      "source": [
        "from sklearn import svm\n",
        "from sklearn.metrics import classification_report\n",
        "from sklearn.metrics import accuracy_score\n",
        "\n",
        "# Perform classification with SVM, kernel=linear\n",
        "classifier_linear = svm.SVC(kernel='linear')\n",
        "\n",
        "classifier_linear.fit(train_vectors, trainData['Label'])\n",
        "\n",
        "prediction_linear = classifier_linear.predict(test_vectors)\n",
        "\n",
        "\n",
        "\n",
        "# results\n",
        "\n",
        "print(\"Accuracy: \",accuracy_score(testData['Label'], prediction_linear))\n",
        "\n",
        "report = classification_report(testData['Label'], prediction_linear, output_dict=True)\n",
        "print('positive: ', report['pos'])\n",
        "print('negative: ', report['neg'])"
      ],
      "execution_count": 5,
      "outputs": [
        {
          "output_type": "stream",
          "text": [
            "Accuracy:  0.805\n",
            "positive:  {'precision': 0.7961165048543689, 'recall': 0.82, 'f1-score': 0.8078817733990147, 'support': 100}\n",
            "negative:  {'precision': 0.8144329896907216, 'recall': 0.79, 'f1-score': 0.802030456852792, 'support': 100}\n"
          ],
          "name": "stdout"
        }
      ]
    },
    {
      "cell_type": "code",
      "metadata": {
        "id": "chcW_SShC8Jr"
      },
      "source": [
        "test_vectors = vectorizer.transform([\"This film has greatly polarized critics for its use of controversial concepts. I am a scientist and of course this movie gives me mixed feelings about its science. But I'm sure about one thing, that this is fiction.\"])"
      ],
      "execution_count": 12,
      "outputs": []
    },
    {
      "cell_type": "code",
      "metadata": {
        "id": "ksAbQtZcByBn"
      },
      "source": [
        "prediction_linear = classifier_linear.predict(test_vectors)"
      ],
      "execution_count": 13,
      "outputs": []
    },
    {
      "cell_type": "code",
      "metadata": {
        "id": "EMdmcEpoBx8p",
        "outputId": "095766d5-d565-4358-e806-5aec97412c9d",
        "colab": {
          "base_uri": "https://localhost:8080/",
          "height": 34
        }
      },
      "source": [
        "print(prediction_linear)"
      ],
      "execution_count": 14,
      "outputs": [
        {
          "output_type": "stream",
          "text": [
            "['pos']\n"
          ],
          "name": "stdout"
        }
      ]
    }
  ]
}